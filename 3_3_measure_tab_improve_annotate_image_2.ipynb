{
 "cells": [
  {
   "cell_type": "code",
   "execution_count": 1,
   "id": "9977f56f",
   "metadata": {},
   "outputs": [],
   "source": [
    "import dash\n",
    "# import dash_auth\n",
    "# from users import USERNAME_PASSWORD_PAIRS\n",
    "from dash import dcc\n",
    "from dash import html\n",
    "import plotly\n",
    "import dash_bootstrap_components as dbc\n",
    "# import dash_daq as dq\n",
    "from jupyter_dash import JupyterDash\n",
    "from dash import Dash\n",
    "import pandas as pd  \n",
    "import joblib\n",
    "import base64, io, os\n",
    "from dash import  dash_table\n",
    "import dash\n",
    "import pandas as pd\n",
    "from dash import dash_table\n",
    "import pickle\n",
    "from dash.dependencies import Input, Output, State, ALL, MATCH\n",
    "import json\n",
    "# from functools import reduce\n",
    "from dash import Input, Output, State, html\n",
    "from tqdm.notebook import trange, tqdm\n",
    "import pickle\n",
    "import numpy as np\n",
    "import pandas as pd\n",
    "# from cryptography.fernet import Fernet\n",
    "import json\n",
    "import io, base64, os\n",
    "import pandas as pd\n",
    "import datetime\n",
    "import time\n",
    "import re\n",
    "import plotly.express as px\n",
    "import plotly.graph_objects as go\n",
    "\n",
    "import geopandas\n",
    "import tifffile as tiff\n",
    "import cv2\n",
    "import matplotlib; matplotlib.rcParams['figure.dpi']=300\n",
    "import matplotlib.pyplot as plt\n",
    "import pickle\n",
    "import numpy as np\n",
    "from pathpretrain.utils import generate_tissue_mask\n",
    "import scipy.ndimage as ndimage\n",
    "from skimage.util import compare_images\n",
    "from skimage.measure import regionprops_table\n",
    "from skimage import exposure\n",
    "import tempfile\n",
    "import matplotlib.image as mpimg"
   ]
  },
  {
   "cell_type": "code",
   "execution_count": 2,
   "id": "11cda5c6",
   "metadata": {},
   "outputs": [],
   "source": [
    "with open(\"./data/match_dict.pkl\", \"rb\") as file:\n",
    "    match_dict = pickle.load(file)\n",
    "\n",
    "annotation_data = geopandas.read_file(\"./data/_SS12251_140745.geojson\")\n",
    "im_large = tiff.imread(\"./data/_SS12251_140745.svs\")\n",
    "im_small = cv2.resize(im_large, None, fx=1/15, fy=1/15)\n",
    "\n",
    "with open(\"./data/011320_002_N_HR_dict.pkl\", \"rb\") as input_file:\n",
    "    metal_data = pickle.load(input_file)"
   ]
  },
  {
   "cell_type": "code",
   "execution_count": 3,
   "id": "f64eb9a1",
   "metadata": {},
   "outputs": [],
   "source": [
    "im_medium = cv2.resize(im_large, None, fx=1/7, fy=1/7)"
   ]
  },
  {
   "cell_type": "code",
   "execution_count": 4,
   "id": "2cb80613",
   "metadata": {},
   "outputs": [
    {
     "data": {
      "text/plain": [
       "(3101, 4657, 3)"
      ]
     },
     "execution_count": 4,
     "metadata": {},
     "output_type": "execute_result"
    }
   ],
   "source": [
    "im_small.shape"
   ]
  },
  {
   "cell_type": "code",
   "execution_count": 5,
   "id": "035faed5",
   "metadata": {},
   "outputs": [
    {
     "data": {
      "text/plain": [
       "(871, 1499)"
      ]
     },
     "execution_count": 5,
     "metadata": {},
     "output_type": "execute_result"
    }
   ],
   "source": [
    "metal_data['metals']['Ca44'].shape"
   ]
  },
  {
   "cell_type": "code",
   "execution_count": 6,
   "id": "4d13c615",
   "metadata": {},
   "outputs": [],
   "source": [
    "def crop_slide(image_array):\n",
    "#     slide_file = list(filter(lambda x: match_dict[x] == imageId, match_dict))[0]    \n",
    "    im_large=image_array#tifffile.imread(f\"/dartfs/rc/nosnapshots/V/VaickusL-nb/EDIT_Students/projects/metals/breast/new_slide_images_4_6_23/{slide_file}.svs\")\n",
    "\n",
    "    tissue_mask=generate_tissue_mask(im_large*5,compression=32.,threshold=240,kernel=10,gray_before_close=True) \n",
    "    compression=32\n",
    "    \n",
    "    # Metal image is only portion of slide\n",
    "#     if (imageId == \"092619_007_T_HER2\"):    \n",
    "        \n",
    "#     if (imageId == \"102720_003_T_TNBC\"):\n",
    "#         labels_small=ndimage.label(cv2.resize(tissue_mask.astype(np.uint8),None,fx=1/compression,fy=1/compression,interpolation=cv2.INTER_NEAREST))[0]\n",
    "#         lbl_table=pd.DataFrame(regionprops_table(labels_small,properties=['bbox','area',\"label\"])).sort_values(\"area\",ascending=False)\n",
    "#         xmin,ymin,xmax,ymax=(lbl_table.iloc[1][[col for col in lbl_table if \"bbox\" in col]]*compression).astype(int)   \n",
    "#     else:  \n",
    "    labels_small=ndimage.label(cv2.resize(tissue_mask.astype(np.uint8),None,fx=1/compression,fy=1/compression,interpolation=cv2.INTER_NEAREST))[0]\n",
    "    lbl_table=pd.DataFrame(regionprops_table(labels_small,properties=['bbox','area',\"label\"])).sort_values(\"area\",ascending=False)\n",
    "    xmin,ymin,xmax,ymax=(lbl_table.iloc[0][[col for col in lbl_table if \"bbox\" in col]]*compression).astype(int)   \n",
    "    \n",
    "    im_large_crop=im_large[xmin:xmax,ymin:ymax].copy()\n",
    "    im_large_crop[~tissue_mask[xmin:xmax,ymin:ymax]]=255\n",
    "    \n",
    "    return im_large_crop, [[xmin, ymin], [xmax, ymax]], tissue_mask"
   ]
  },
  {
   "cell_type": "code",
   "execution_count": 7,
   "id": "795dfb0f",
   "metadata": {},
   "outputs": [
    {
     "name": "stderr",
     "output_type": "stream",
     "text": [
      "/Users/luyunrui/anaconda3/lib/python3.7/site-packages/ipykernel_launcher.py:5: RuntimeWarning:\n",
      "\n",
      "divide by zero encountered in log\n",
      "\n",
      "/Users/luyunrui/anaconda3/lib/python3.7/site-packages/ipykernel_launcher.py:5: RuntimeWarning:\n",
      "\n",
      "invalid value encountered in log\n",
      "\n"
     ]
    }
   ],
   "source": [
    "im_large_crop, minmax_list, tissue_mask = crop_slide(im_large)\n",
    "im_small_crop = cv2.resize(im_large_crop, None, fx=1/15, fy=1/15)\n",
    "\n",
    "hne_image = px.imshow(im_small_crop)\n",
    "metal_image = px.imshow(np.log(metal_data['metals']['Ca44'])+10, color_continuous_scale='jet')"
   ]
  },
  {
   "cell_type": "code",
   "execution_count": 8,
   "id": "b8b336b8",
   "metadata": {},
   "outputs": [],
   "source": [
    "annotation_data['annot']=annotation_data['classification'].map(lambda x: x.get(\"name\",\"none\"))\n",
    "\n",
    "gp2=annotation_data.copy()\n",
    "gp2['geometry']=gp2['geometry'].scale(1/7,1/7,origin=(0,0))\n",
    "gp2['coords'] = gp2['geometry'].apply(lambda x: x.representative_point().coords[:])\n",
    "gp2['coords'] = [coords[0] for coords in gp2['coords']]"
   ]
  },
  {
   "cell_type": "code",
   "execution_count": 17,
   "id": "5055091a",
   "metadata": {},
   "outputs": [],
   "source": [
    "app = JupyterDash(__name__, \n",
    "                  external_stylesheets=[dbc.themes.SPACELAB], \n",
    "                 )\n",
    "\n",
    "markdown_text_title = '''\n",
    "# **Metals Demo**\n",
    "'''\n",
    "\n",
    "tab_Data_content = dbc.Card(\n",
    "    dbc.CardBody(\n",
    "        [\n",
    "            html.P(\"This is Data tab\", className=\"card-text\"),\n",
    "        ]\n",
    "    ),\n",
    "    className=\"mt-3\",\n",
    ")\n",
    "\n",
    "image_no_axis_layout = go.Layout(\n",
    "    xaxis=dict(showgrid=False, zeroline=False, showticklabels=False),\n",
    "    yaxis=dict(showgrid=False, zeroline=False, showticklabels=False),\n",
    ")\n",
    "\n",
    "hne_image.update_layout(image_no_axis_layout)\n",
    "metal_image.update_layout(image_no_axis_layout)\n",
    "hne_image.update_layout(title=dict(text=\"H&E Image\", x=0.5, y=0.95, xanchor='center'))\n",
    "\n",
    "def update_metal_image(selected_metal, \n",
    "                       np_log, \n",
    "                      ):\n",
    "    if np_log == 'With np log transform':\n",
    "        metal_image_data = np.log(metal_data['metals'][selected_metal]) + 10\n",
    "    else:\n",
    "        metal_image_data = metal_data['metals'][selected_metal]\n",
    "    metal_image = px.imshow(metal_image_data, color_continuous_scale='jet')\n",
    "    metal_image.update_layout(image_no_axis_layout)\n",
    "    metal_image.update_layout(title=dict(text=\"Metal Image - {}\".format(selected_metal), x=0.5, y=0.95, xanchor='center'))\n",
    "    return metal_image\n",
    "\n",
    "tab_Visualization_content = dbc.Card(\n",
    "    dbc.CardBody(\n",
    "        [\n",
    "            dbc.Row(\n",
    "            [\n",
    "                dbc.Col(dcc.Graph(id=\"hne_image\", figure=hne_image, \n",
    "                                 ), \n",
    "                        width=6),\n",
    "                dbc.Col(dcc.Graph(id=\"metal_image\", figure=metal_image, \n",
    "                                 ), \n",
    "                        width=6),\n",
    "            ]\n",
    "        ),\n",
    "            dbc.Row([\n",
    "                dcc.Dropdown(\n",
    "                            id='metal_dropdown',\n",
    "                            options=list(metal_data['metals'].keys()),\n",
    "                            value='Ca44',\n",
    "                            searchable=True, \n",
    "                            style={'width': '110px'},\n",
    "                                ),\n",
    "                dcc.Dropdown(\n",
    "                            id='np_log_dropdown',\n",
    "                            options=['With np log transform', 'Without np log transform'],\n",
    "                            value='With np log transform',\n",
    "                            style={'width': '300px'},\n",
    "                                ),\n",
    "            ], justify=\"end\",),\n",
    "        ]\n",
    "    ),\n",
    "    className=\"mt-3\",\n",
    ")\n",
    "\n",
    "tab_Coregister_content = dbc.Card(\n",
    "    dbc.CardBody(\n",
    "        [\n",
    "            html.P(\"This is Coregister tab\", className=\"card-text\"),\n",
    "        ]\n",
    "    ),\n",
    "    className=\"mt-3\",\n",
    ")\n",
    "\n",
    "original_image = px.imshow(im_medium)\n",
    "# annotate_image = px.imshow(im_medium_annot)\n",
    "\n",
    "original_image.update_layout(image_no_axis_layout)\n",
    "# annotate_image.update_layout(image_no_axis_layout)\n",
    "\n",
    "original_image.update_layout(title=dict(text=\"H&E Image\", x=0.5, y=0.95, xanchor='center'))\n",
    "original_image.update_layout(margin={'l': 0, 'r': 0, 't': 0, 'b': 0})\n",
    "# annotate_image.update_layout(title=dict(text=\"H&E Annotated Image\", x=0.5, y=0.95, xanchor='center'))\n",
    "\n",
    "\n",
    "two_measure_images = dbc.Row(\n",
    "                                [\n",
    "                                    dbc.Col(dcc.Graph(figure=original_image), width=4),\n",
    "#                                     dbc.Col(dcc.Graph(figure=annotate_image), width=6),\n",
    "                                    ], \n",
    "justify=\"start\",)\n",
    "\n",
    "tab_Measure_content = dbc.Card(\n",
    "    dbc.CardBody(\n",
    "        [\n",
    "            two_measure_images,\n",
    "        ]\n",
    "    ),\n",
    "    className=\"mt-3\",\n",
    ")\n",
    "\n",
    "all_tabs = dbc.Tabs(\n",
    "    [\n",
    "        dbc.Tab(tab_Data_content, label=\"Data\"),\n",
    "        dbc.Tab(tab_Visualization_content, label=\"Visualization\"),\n",
    "        dbc.Tab(tab_Coregister_content, label=\"Co-register\"),\n",
    "        dbc.Tab(tab_Measure_content, label=\"Measure\"),\n",
    "    ]\n",
    ")\n",
    "\n",
    "app.layout = html.Div([dcc.Markdown(children=markdown_text_title),\n",
    "                       all_tabs])\n",
    "\n",
    "@app.callback(\n",
    "    Output('metal_image', 'figure'),\n",
    "    [Input('metal_dropdown', 'value'), \n",
    "     Input('np_log_dropdown', 'value')]\n",
    ")\n",
    "\n",
    "def update_metal_image_callback(selected_metal, np_log):\n",
    "    return update_metal_image(selected_metal, np_log)\n",
    "\n",
    "\n",
    "\n",
    "\n",
    "\n",
    "\n",
    "\n",
    "\n"
   ]
  },
  {
   "cell_type": "code",
   "execution_count": 18,
   "id": "24f66193",
   "metadata": {},
   "outputs": [
    {
     "name": "stderr",
     "output_type": "stream",
     "text": [
      " * Running on http://localhost:8050 (Press CTRL+C to quit)\n",
      "127.0.0.1 - - [29/Jul/2023 15:29:50] \"GET /_alive_7eb031b2-47c5-4b74-91ca-ad428477ffc6 HTTP/1.1\" 200 -\n"
     ]
    },
    {
     "name": "stdout",
     "output_type": "stream",
     "text": [
      "Dash app running on http://localhost:8050/\n"
     ]
    },
    {
     "name": "stderr",
     "output_type": "stream",
     "text": [
      "127.0.0.1 - - [29/Jul/2023 15:29:52] \"GET / HTTP/1.1\" 200 -\n",
      "127.0.0.1 - - [29/Jul/2023 15:29:52] \"GET /_dash-dependencies HTTP/1.1\" 200 -\n",
      "127.0.0.1 - - [29/Jul/2023 15:29:53] \"GET /_favicon.ico?v=2.5.0 HTTP/1.1\" 200 -\n",
      "127.0.0.1 - - [29/Jul/2023 15:29:55] \"GET /_dash-layout HTTP/1.1\" 200 -\n",
      "127.0.0.1 - - [29/Jul/2023 15:29:56] \"GET /_dash-component-suites/dash/dcc/async-markdown.js HTTP/1.1\" 304 -\n",
      "127.0.0.1 - - [29/Jul/2023 15:29:56] \"GET /_dash-component-suites/dash/dcc/async-graph.js HTTP/1.1\" 304 -\n",
      "127.0.0.1 - - [29/Jul/2023 15:29:56] \"GET /_dash-component-suites/dash/dcc/async-dropdown.js HTTP/1.1\" 304 -\n",
      "127.0.0.1 - - [29/Jul/2023 15:29:56] \"/Users/luyunrui/anaconda3/lib/python3.7/site-packages/ipykernel_launcher.py:31: RuntimeWarning:\n",
      "\n",
      "divide by zero encountered in log\n",
      "\n",
      "/Users/luyunrui/anaconda3/lib/python3.7/site-packages/ipykernel_launcher.py:31: RuntimeWarning:\n",
      "\n",
      "invalid value encountered in log\n",
      "\n",
      "GET /_dash-component-suites/dash/dcc/async-plotlyjs.js HTTP/1.1\" 304 -\n",
      "127.0.0.1 - - [29/Jul/2023 15:29:56] \"GET /_dash-component-suites/dash/dcc/async-highlight.js HTTP/1.1\" 304 -\n",
      "127.0.0.1 - - [29/Jul/2023 15:29:57] \"POST /_dash-update-component HTTP/1.1\" 200 -\n"
     ]
    }
   ],
   "source": [
    "app.run_server(debug=False,\n",
    "               mode=\"external\",\n",
    "               host='localhost', \n",
    "              )"
   ]
  },
  {
   "cell_type": "code",
   "execution_count": null,
   "id": "0a74ff03",
   "metadata": {},
   "outputs": [],
   "source": []
  },
  {
   "cell_type": "code",
   "execution_count": null,
   "id": "33f19b98",
   "metadata": {},
   "outputs": [],
   "source": []
  },
  {
   "cell_type": "code",
   "execution_count": null,
   "id": "f8444fcb",
   "metadata": {},
   "outputs": [],
   "source": []
  }
 ],
 "metadata": {
  "kernelspec": {
   "display_name": "anacoda3",
   "language": "python",
   "name": "anacoda3"
  },
  "language_info": {
   "codemirror_mode": {
    "name": "ipython",
    "version": 3
   },
   "file_extension": ".py",
   "mimetype": "text/x-python",
   "name": "python",
   "nbconvert_exporter": "python",
   "pygments_lexer": "ipython3",
   "version": "3.7.1"
  }
 },
 "nbformat": 4,
 "nbformat_minor": 5
}
