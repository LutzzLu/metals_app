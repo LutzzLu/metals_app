{
 "cells": [
  {
   "cell_type": "code",
   "execution_count": 2,
   "id": "5f216626",
   "metadata": {},
   "outputs": [],
   "source": [
    "import dash\n",
    "# import dash_auth\n",
    "# from users import USERNAME_PASSWORD_PAIRS\n",
    "from dash import dcc\n",
    "from dash import html\n",
    "import plotly\n",
    "import dash_bootstrap_components as dbc\n",
    "# import dash_daq as dq\n",
    "from jupyter_dash import JupyterDash\n",
    "from dash import Dash\n",
    "import pandas as pd  \n",
    "import joblib\n",
    "import base64, io, os\n",
    "from dash import  dash_table\n",
    "import dash\n",
    "import pandas as pd\n",
    "from dash import dash_table\n",
    "import pickle\n",
    "from dash.dependencies import Input, Output, State, ALL, MATCH\n",
    "import json\n",
    "# from functools import reduce\n",
    "from dash import Input, Output, State, html\n",
    "from tqdm.notebook import trange, tqdm\n",
    "import pickle\n",
    "import numpy as np\n",
    "import pandas as pd\n",
    "# from cryptography.fernet import Fernet\n",
    "import json\n",
    "import io, base64, os\n",
    "import pandas as pd\n",
    "import datetime\n",
    "import time\n",
    "import re"
   ]
  },
  {
   "cell_type": "code",
   "execution_count": 3,
   "id": "b4d79774",
   "metadata": {},
   "outputs": [],
   "source": [
    "app = JupyterDash(__name__, \n",
    "                  external_stylesheets=[dbc.themes.SPACELAB], \n",
    "                 )\n",
    "\n",
    "markdown_text_title = '''\n",
    "# **Metals Demo**\n",
    "'''\n",
    "\n",
    "tab_Data_content = dbc.Card(\n",
    "    dbc.CardBody(\n",
    "        [\n",
    "            html.P(\"This is Data tab\", className=\"card-text\"),\n",
    "        ]\n",
    "    ),\n",
    "    className=\"mt-3\",\n",
    ")\n",
    "\n",
    "tab_Visualization_content = dbc.Card(\n",
    "    dbc.CardBody(\n",
    "        [\n",
    "            html.P(\"This is Visualization tab\", className=\"card-text\"),\n",
    "        ]\n",
    "    ),\n",
    "    className=\"mt-3\",\n",
    ")\n",
    "\n",
    "tab_Coregister_content = dbc.Card(\n",
    "    dbc.CardBody(\n",
    "        [\n",
    "            html.P(\"This is Coregister tab\", className=\"card-text\"),\n",
    "        ]\n",
    "    ),\n",
    "    className=\"mt-3\",\n",
    ")\n",
    "\n",
    "tab_Measure_content = dbc.Card(\n",
    "    dbc.CardBody(\n",
    "        [\n",
    "            html.P(\"This is Measure tab\", className=\"card-text\"),\n",
    "        ]\n",
    "    ),\n",
    "    className=\"mt-3\",\n",
    ")\n",
    "\n",
    "all_tabs = dbc.Tabs(\n",
    "    [\n",
    "        dbc.Tab(tab_Data_content, label=\"Data\"),\n",
    "        dbc.Tab(tab_Visualization_content, label=\"Visualization\"),\n",
    "        dbc.Tab(tab_Coregister_content, label=\"Co-register\"),\n",
    "        dbc.Tab(tab_Measure_content, label=\"Measure\"),\n",
    "    ]\n",
    ")\n",
    "\n",
    "app.layout = html.Div([dcc.Markdown(children=markdown_text_title),\n",
    "                       all_tabs])"
   ]
  },
  {
   "cell_type": "code",
   "execution_count": 4,
   "id": "7ba02d6d",
   "metadata": {},
   "outputs": [
    {
     "name": "stderr",
     "output_type": "stream",
     "text": [
      " * Running on http://localhost:8050 (Press CTRL+C to quit)\n",
      "127.0.0.1 - - [27/Jul/2023 19:09:19] \"GET /_alive_7e10f1c6-83d6-4326-8ef2-1ce362d76453 HTTP/1.1\" 200 -\n"
     ]
    },
    {
     "name": "stdout",
     "output_type": "stream",
     "text": [
      "Dash app running on http://localhost:8050/\n"
     ]
    },
    {
     "name": "stderr",
     "output_type": "stream",
     "text": [
      "127.0.0.1 - - [27/Jul/2023 19:09:21] \"GET / HTTP/1.1\" 200 -\n",
      "127.0.0.1 - - [27/Jul/2023 19:09:21] \"GET /_dash-layout HTTP/1.1\" 200 -\n",
      "127.0.0.1 - - [27/Jul/2023 19:09:21] \"GET /_dash-dependencies HTTP/1.1\" 200 -\n",
      "127.0.0.1 - - [27/Jul/2023 19:09:21] \"GET /_dash-component-suites/dash/dcc/async-markdown.js HTTP/1.1\" 200 -\n",
      "127.0.0.1 - - [27/Jul/2023 19:09:21] \"GET /_favicon.ico?v=2.5.0 HTTP/1.1\" 200 -\n",
      "127.0.0.1 - - [27/Jul/2023 19:09:21] \"GET /_dash-component-suites/dash/dcc/async-highlight.js HTTP/1.1\" 200 -\n",
      "127.0.0.1 - - [27/Jul/2023 20:12:18] \"GET /_alive_1684c732-6439-4c13-8883-4ac08d9333b8 HTTP/1.1\" 200 -\n",
      "127.0.0.1 - - [27/Jul/2023 20:12:18] \"GET /_alive_1684c732-6439-4c13-8883-4ac08d9333b8 HTTP/1.1\" 200 -\n",
      "127.0.0.1 - - [27/Jul/2023 20:12:18] \"GET /_alive_1684c732-6439-4c13-8883-4ac08d9333b8 HTTP/1.1\" 200 -\n",
      "127.0.0.1 - - [27/Jul/2023 20:12:18] \"GET /_alive_1684c732-6439-4c13-8883-4ac08d9333b8 HTTP/1.1\" 200 -\n",
      "127.0.0.1 - - [27/Jul/2023 20:12:18] \"GET /_alive_1684c732-6439-4c13-8883-4ac08d9333b8 HTTP/1.1\" 200 -\n",
      "127.0.0.1 - - [27/Jul/2023 20:12:18] \"GET /_alive_1684c732-6439-4c13-8883-4ac08d9333b8 HTTP/1.1\" 200 -\n",
      "127.0.0.1 - - [27/Jul/2023 20:12:19] \"GET /_alive_1684c732-6439-4c13-8883-4ac08d9333b8 HTTP/1.1\" 200 -\n",
      "127.0.0.1 - - [27/Jul/2023 20:12:20] \"GET /_alive_1684c732-6439-4c13-8883-4ac08d9333b8 HTTP/1.1\" 200 -\n",
      "127.0.0.1 - - [27/Jul/2023 20:12:21] \"GET /_alive_1684c732-6439-4c13-8883-4ac08d9333b8 HTTP/1.1\" 200 -\n",
      "127.0.0.1 - - [27/Jul/2023 20:12:22] \"GET /_alive_1684c732-6439-4c13-8883-4ac08d9333b8 HTTP/1.1\" 200 -\n",
      "127.0.0.1 - - [27/Jul/2023 20:12:23] \"GET /_alive_1684c732-6439-4c13-8883-4ac08d9333b8 HTTP/1.1\" 200 -\n",
      "127.0.0.1 - - [27/Jul/2023 20:12:24] \"GET /_alive_1684c732-6439-4c13-8883-4ac08d9333b8 HTTP/1.1\" 200 -\n",
      "127.0.0.1 - - [27/Jul/2023 20:12:25] \"GET /_alive_1684c732-6439-4c13-8883-4ac08d9333b8 HTTP/1.1\" 200 -\n",
      "127.0.0.1 - - [27/Jul/2023 20:12:26] \"GET /_alive_1684c732-6439-4c13-8883-4ac08d9333b8 HTTP/1.1\" 200 -\n"
     ]
    }
   ],
   "source": [
    "app.run_server(debug=False,\n",
    "               mode=\"external\",\n",
    "               host='localhost', \n",
    "#                host='0.0.0.0',\n",
    "#                port=8824, \n",
    "              )"
   ]
  },
  {
   "cell_type": "code",
   "execution_count": 1,
   "id": "e7ebc42e",
   "metadata": {},
   "outputs": [],
   "source": [
    "# app.run(debug=False, \n",
    "# #        mode=\"external\",\n",
    "#        host='localhost', \n",
    "#        )"
   ]
  },
  {
   "cell_type": "code",
   "execution_count": null,
   "id": "4a0aefd0",
   "metadata": {},
   "outputs": [],
   "source": []
  },
  {
   "cell_type": "code",
   "execution_count": null,
   "id": "6e643121",
   "metadata": {},
   "outputs": [],
   "source": []
  },
  {
   "cell_type": "code",
   "execution_count": null,
   "id": "1999b056",
   "metadata": {},
   "outputs": [],
   "source": []
  }
 ],
 "metadata": {
  "kernelspec": {
   "display_name": "anacoda3",
   "language": "python",
   "name": "anacoda3"
  },
  "language_info": {
   "codemirror_mode": {
    "name": "ipython",
    "version": 3
   },
   "file_extension": ".py",
   "mimetype": "text/x-python",
   "name": "python",
   "nbconvert_exporter": "python",
   "pygments_lexer": "ipython3",
   "version": "3.7.1"
  }
 },
 "nbformat": 4,
 "nbformat_minor": 5
}
